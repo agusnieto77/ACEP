{
  "nbformat": 4,
  "nbformat_minor": 0,
  "metadata": {
    "colab": {
      "provenance": [],
      "authorship_tag": "ABX9TyPN3v1qnTp5Eu0u4SbBb/Kh",
      "include_colab_link": true
    },
    "kernelspec": {
      "name": "ir",
      "display_name": "R"
    },
    "language_info": {
      "name": "R"
    }
  },
  "cells": [
    {
      "cell_type": "markdown",
      "metadata": {
        "id": "view-in-github",
        "colab_type": "text"
      },
      "source": [
        "<a href=\"https://colab.research.google.com/github/agusnieto77/ACEP/blob/master/Colabs/ACEP_funciones_existentes_I.ipynb\" target=\"_parent\"><img src=\"https://colab.research.google.com/assets/colab-badge.svg\" alt=\"Open In Colab\"/></a>"
      ]
    },
    {
      "cell_type": "markdown",
      "source": [
        "# Ejercicio 1"
      ],
      "metadata": {
        "id": "mxHA5aNWT3pn"
      }
    },
    {
      "cell_type": "code",
      "execution_count": null,
      "metadata": {
        "id": "ThmpIJYljSTT"
      },
      "outputs": [],
      "source": [
        "install.packages(\"ACEP\")"
      ]
    },
    {
      "cell_type": "code",
      "source": [
        "require(ACEP)"
      ],
      "metadata": {
        "id": "yvhkmoqEjvZO"
      },
      "execution_count": null,
      "outputs": []
    },
    {
      "cell_type": "code",
      "source": [
        "acep_clean(\"La UTA inició un paro de colectivos por tiempo indeterminado\")"
      ],
      "metadata": {
        "id": "ubZxi3WJj2Se"
      },
      "execution_count": null,
      "outputs": []
    },
    {
      "cell_type": "code",
      "source": [
        "uta <- acep_token(c(\"uta inicio paro colectivos tiempo indeterminado\",\n",
        "\"uta inicio paro colectivos tiempo\",\n",
        "\"uta inicio paro colectivos\",\n",
        "\"uta inicio paro\",\n",
        "\"uta inicio\",\n",
        "\"uta\"))\n",
        "print(uta)"
      ],
      "metadata": {
        "id": "uhOCAIp4kOAm"
      },
      "execution_count": null,
      "outputs": []
    },
    {
      "cell_type": "code",
      "source": [
        "acep_token_table(uta$token)"
      ],
      "metadata": {
        "id": "-6YhRzyBk5ln"
      },
      "execution_count": null,
      "outputs": []
    },
    {
      "cell_type": "code",
      "source": [
        "acep_token_plot(uta$token)"
      ],
      "metadata": {
        "id": "cEG8Iam6lebX"
      },
      "execution_count": null,
      "outputs": []
    }
  ]
}